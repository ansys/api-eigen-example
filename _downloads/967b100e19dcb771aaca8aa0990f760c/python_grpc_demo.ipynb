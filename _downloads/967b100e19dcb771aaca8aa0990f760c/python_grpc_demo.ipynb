{
  "cells": [
    {
      "cell_type": "markdown",
      "metadata": {},
      "source": [
        "\n\n# API Eigen Example - gRPC Demo using Python\n\nThis tutorial shows how you can use the Python gRPC Client of the API Eigen Example\nproject to communicate with the gRPC Server.\n\nIn the following demo, we will be showing the basics of API gRPC protocol by means of a\nsimple library we have created. This library basically contains two elements in its Python version:\n\n- A server which basically implements an API gRPC interface to communicate with an installed library within\n    it, in our case the Eigen library. This API gRPC interface basically exposes certain functionalities such as\n    adding, subtracting and multiplying ``Eigen::VectorXd`` and ``Eigen::MatrixXd`` in a simple way. By using Protobuf,\n    we have created certain messages which both the server and the client know how to encode and decode.\n- A client in charge of easing the interaction with the server by means of API gRPC interface specific methods.\n\nIn order to run this demo, it is necessary to deploy a server. When the docs are generated\n(via workflows), the server is deployed as a service to compile the example. However, if you\nare planning on running the example on your own, it is necessary to deploy it manually. In order to\ndo so, please run this on a different Python terminal:\n\n>>> import ansys.eigen.python.grpc.server as grpc_server\n>>> import logging\n>>> logging.basicConfig()\n>>> grpc_server.serve()\n\nNow, once the server is up and running. Let us import our client!\n"
      ]
    },
    {
      "cell_type": "code",
      "execution_count": null,
      "metadata": {
        "collapsed": false
      },
      "outputs": [],
      "source": [
        "from ansys.eigen.python.grpc.client import DemoGRPCClient"
      ]
    },
    {
      "cell_type": "markdown",
      "metadata": {},
      "source": [
        "## The DemoGRPCClient\nThis ``DemoGRPCClient`` class is basically the one which will handle the API gRPC interface with the server,\ntogether with the connection itself, the formatting of the request and so on. When constructing the class we\nmust provide as inputs the ``ip`` and the ``port`` of the server. For this demo we are running, since we\nalready deployed the server (either manually or as a container), we will provide the following arguments:\n\n- IP(or DNS): 127.0.0.1\n- Port: 50051\n\nThe server is exposed by **IP 127.0.0.1** and **port 50051** as per defined in the Dockerfile of the server and\nthe server itself. Thus, the previous inputs should be provided, although they are also the default values. Nonetheless,\nin the IP field we could also provide the DNS for the sake of showing that DNS values are also accepted. In this case,\nby inserting ``localhost`` the connection would also be established.\n\n"
      ]
    },
    {
      "cell_type": "code",
      "execution_count": null,
      "metadata": {
        "collapsed": false
      },
      "outputs": [],
      "source": [
        "print(\"=========================\")\nmy_client = DemoGRPCClient(ip=\"127.0.0.1\", port=50051)\nprint(\"=========================\")\nmy_client_dns = DemoGRPCClient(ip=\"localhost\", port=50051)"
      ]
    },
    {
      "cell_type": "markdown",
      "metadata": {},
      "source": [
        "This ``DemoGRPCClient`` also has a method for verifying the connection to out client, which is a simple\nhandshake/greeting, when we provide our name:\n\n"
      ]
    },
    {
      "cell_type": "code",
      "execution_count": null,
      "metadata": {
        "collapsed": false
      },
      "outputs": [],
      "source": [
        "print(\"=========================\")\nmy_client.request_greeting(\"User\")"
      ]
    },
    {
      "cell_type": "markdown",
      "metadata": {},
      "source": [
        "This will let us verify that the connection to the server is adequate and communication is favorable.\n\n"
      ]
    },
    {
      "cell_type": "code",
      "execution_count": null,
      "metadata": {
        "collapsed": false
      },
      "outputs": [],
      "source": [
        "# Now, we will proceed to perform a simple operation like adding two 1D numpy.ndarrays. First, let us start by defining them:\n\nimport numpy as np\n\nvec_1 = np.array([1, 2, 3, 4], dtype=np.float64)\nvec_2 = np.array([5, 4, 2, 0], dtype=np.float64)"
      ]
    },
    {
      "cell_type": "markdown",
      "metadata": {},
      "source": [
        "## Performing gRPC interaction\nNow, we will call the client method ``add_vectors(...)``, and we will explain the typical process of all interface methods (``add_XXXX(...)`` and ``multiply_XXXX(...)``):\n\n- The client performs some sanity checks to confirm that the inputs provided are as expected. This Demo has some limitations such as: only 1D, 2D numpy.ndarrays are allowed; they must be of type float64. Direct interaction with the server (i.e. without a client) and using gRPC is out of the scope of this demo. Doing so could be considered as \"impossible\" since you would have to serialize your message on your own, following the standard defined in the proto files.\n\n- The client serializes the messages with the inputs provided using generator functions. Our end server is characterized for receiving ``streams`` of messages, which basically represent a list of messages. Each of these messages are serialized following the interface proposed by the proto files, thanks to the automatically generated source code by protobuf.\n    - For example our ``Vector`` message is characterized for having the following structure:\n\n          ``enum DataType {INTEGER = 0;DOUBLE = 1;}``\n\n          ``message Vector {DataType data_type = 1; int32 vector_size = 2; bytes vector_as_chunk = 3;}``\n\n- When the server receives the messages, it deserializes them and interprets each of the previous fields. Thus, it is easily converted into a numpy.ndarray of the adequate type. Then, the desired vectors to be added are passed to the Eigen library via our ``demo_eigen_wrapper`` for the resolution of the demanded operation.\n\n- Once the results of the operation are available, the server serializes the result and responds with the adequate message to the client.\n    - For example, according to the proto file, our server receives a stream of Vector messages, and returns a single Vector message (which contains the result of the requested operation):\n\n          ``rpc AddVectors(stream Vector) returns (Vector) {}``\n\n- The client then receives the response, deserializes the message and returns the corresponding result to the end-user as numpy.ndarray. Thus, the entire process is like a black-box for the end-user, and does not require to understand what is happening behind the scenes, since the end-user is only interested in the end-result.\n\nLet us now call the method!\n\n"
      ]
    },
    {
      "cell_type": "code",
      "execution_count": null,
      "metadata": {
        "collapsed": false
      },
      "outputs": [],
      "source": [
        "# Call the client to perform your desired operation\nvec_add = my_client.add_vectors(vec_1, vec_2)\n\n# Show the result!\nprint(\"Vector addition!\")\nprint(\"================\")\nprint(vec_add)"
      ]
    },
    {
      "cell_type": "markdown",
      "metadata": {},
      "source": [
        "As mentioned before, there are several other methods implemented:\n\n"
      ]
    },
    {
      "cell_type": "code",
      "execution_count": null,
      "metadata": {
        "collapsed": false
      },
      "outputs": [],
      "source": [
        "# Call the client to perform your desired operation\nvec_flip = my_client.flip_vector(vec_1)\n\n# Show the result!\nprint(\"Vector position-flip!\")\nprint(\"====================\")\nprint(vec_flip)"
      ]
    },
    {
      "cell_type": "code",
      "execution_count": null,
      "metadata": {
        "collapsed": false
      },
      "outputs": [],
      "source": [
        "# Call the client to perform your desired operation\nvec_mul = my_client.multiply_vectors(vec_1, vec_2)\n\n# Show the result!\nprint(\"Vector dot product!\")\nprint(\"===================\")\nprint(vec_mul)"
      ]
    },
    {
      "cell_type": "markdown",
      "metadata": {},
      "source": [
        "Let us show as well operations with 2D numpy.ndarrays (i.e. Matrices)\n\n"
      ]
    },
    {
      "cell_type": "code",
      "execution_count": null,
      "metadata": {
        "collapsed": false
      },
      "outputs": [],
      "source": [
        "# Define your matrices\nmat_1 = np.array([[1, 2], [3, 4]], dtype=np.float64)\nmat_2 = np.array([[5, 4], [2, 0]], dtype=np.float64)\n\n# Call the client to perform your desired operation\nmat_add = my_client.add_matrices(mat_1, mat_2)\n\n# Show the result!\nprint(\"Adding matrices!\")\nprint(\"================\")\nprint(mat_add)"
      ]
    },
    {
      "cell_type": "code",
      "execution_count": null,
      "metadata": {
        "collapsed": false
      },
      "outputs": [],
      "source": [
        "# Call the client to perform your desired operation\nmat_mul = my_client.multiply_matrices(mat_1, mat_2)\n\n# Show the result!\nprint(\"Multiplying matrices!\")\nprint(\"=====================\")\nprint(mat_mul)"
      ]
    }
  ],
  "metadata": {
    "kernelspec": {
      "display_name": "Python 3",
      "language": "python",
      "name": "python3"
    },
    "language_info": {
      "codemirror_mode": {
        "name": "ipython",
        "version": 3
      },
      "file_extension": ".py",
      "mimetype": "text/x-python",
      "name": "python",
      "nbconvert_exporter": "python",
      "pygments_lexer": "ipython3",
      "version": "3.12.12"
    }
  },
  "nbformat": 4,
  "nbformat_minor": 0
}