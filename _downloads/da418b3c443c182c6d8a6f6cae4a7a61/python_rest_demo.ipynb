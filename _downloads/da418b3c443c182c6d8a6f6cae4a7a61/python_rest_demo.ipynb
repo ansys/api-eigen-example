{
  "cells": [
    {
      "cell_type": "markdown",
      "metadata": {},
      "source": [
        "\n\n# API Eigen Example - REST Demo using Python\n\nThis demo shows how you can use the Python REST client of the API Eigen Example\nproject to communicate with the REST server. It uses a simple Python library to\nshow the basics of API REST protocols. This library contains two elements:\n\n- A server that implements an API REST interface to communicate with an installed library within\n    it, which is the Eigen library. This API REST interface exposes functionalities such as\n    adding, subtracting and multiplying ``Eigen::VectorXd`` and ``Eigen::MatrixXd`` in a simple way.\n- A client in charge of easing the interaction with the server by means of API REST-specific methods.\n    When using the client library, you do not need to know the specifics of the API REST interface.\n\nTo run this demo, you must deploy a server. When the docs are generated\n(via workflows), the server is deployed as a service to compile the example. However, if you\nare planning on running the example on your own, you must deploy it manually by running these commands\non a different Python terminal:\n\n>>> import ansys.eigen.python.rest.server as rest_server\n>>> app = rest_server.create_app()\n>>> app.run(\"127.0.0.1\", 5000)\n\nOnce the server is up and running, you can import your client:\n"
      ]
    },
    {
      "cell_type": "code",
      "execution_count": null,
      "metadata": {
        "collapsed": false
      },
      "outputs": [],
      "source": [
        "from ansys.eigen.python.rest.client import DemoRESTClient"
      ]
    },
    {
      "cell_type": "markdown",
      "metadata": {},
      "source": [
        "## The DemoRESTClient\nThe ``DemoRESTClient`` class handles the API REST interface with the server,\ntogether with the connection itself, the formatting of the request, and more. When\nconstructing the class, you must provide as inputs the ``host`` and ``port`` of the server. For this\ndemo, since the server is already deployed (either manually or as a service in a container),\nuse the following arguments:\n\n- Host: http://127.0.0.1\n- Port: 5000\n\nThe server is exposed by **IP 127.0.0.1** and **port 5000** as per defined in the Dockerfile of the server\n(or if deployed manually, as specified previously). Thus, the previous inputs should be provided.\n\nThe ``DemoRESTClient`` class also allows for basic authentication in case the server was to be protected.\nSee below how to provide the ``user`` and ``pwd`` in this example:\n\n"
      ]
    },
    {
      "cell_type": "code",
      "execution_count": null,
      "metadata": {
        "collapsed": false
      },
      "outputs": [],
      "source": [
        "my_client = DemoRESTClient(\"http://127.0.0.1\", 5000)\nmy_client_ba = DemoRESTClient(\"http://127.0.0.1\", 5000, user=\"myUser\", pwd=\"myPwd\")"
      ]
    },
    {
      "cell_type": "markdown",
      "metadata": {},
      "source": [
        "The ``DemoRESTClient`` also has a method for retrieving the connection details of the client:\n\n"
      ]
    },
    {
      "cell_type": "code",
      "execution_count": null,
      "metadata": {
        "collapsed": false
      },
      "outputs": [],
      "source": [
        "print(\"=========================\")\nmy_client.get_connection_details()\nprint(\"=========================\")\nmy_client_ba.get_connection_details()"
      ]
    },
    {
      "cell_type": "markdown",
      "metadata": {},
      "source": [
        "Now, perform a simple operation like adding two 1D numpy.ndarrays. Start by defining them:\n\n"
      ]
    },
    {
      "cell_type": "code",
      "execution_count": null,
      "metadata": {
        "collapsed": false
      },
      "outputs": [],
      "source": [
        "import numpy as np\n\nvec_1 = np.array([1, 2, 3, 4], dtype=np.float64)\nvec_2 = np.array([5, 4, 2, 0], dtype=np.float64)"
      ]
    },
    {
      "cell_type": "markdown",
      "metadata": {},
      "source": [
        "## Performing REST interaction\nExplanations follow for the typical process of all interface methods (``add()``, ``subtract()`` and ``multiply()``):\n\n- The client performs some sanity checks to confirm that the inputs provided are as expected. This demo has some limitations, such as only allowing 1D and 2D numpy.ndarrays of the float64 type. However, to interact directly with the server, you must take other considerations into account regarding the format of your requests, which is why a client library is used).\n- Once the client has checked that everything is fine, it posts available resources. Here is where the REST world starts:\n    - Servers expose resources, also known as entities, which are well understood if we compare them to objects. For example, if we want to POST a RESOURCE we should basically:\n        - ``POST`` to ``${server-uri}/${resource}`` --> In the demo: ``http://127.0.0.1:5000/Vectors``\n        - The Demo server has two resources implemented: ``Matrices`` and ``Vectors``. Hence, it can handle only 1D and 2D numpy.ndarrays.\n    - When POSTing a resource, the request body contains the resource's information. For example, the request contains the 1D numpy.ndarray that you want to POST). This information is usually serialized into a JSON format. The expected keys must be known by the client and the server to allow a proper interfacing. In a real REST application, the server usually exposes its metadata, which is basically the schema or structure of the different entities implemented (such as their names and attributes). This way, you know how to interact with the server without knowing the specifics of the implementation.\n        - Imagine if you were to use CURL commands. The POST request for your first vector would look something like this:\n        - ``curl -X POST \"http://127.0.0.1:5000/Vectors\" -H \"Content-Type: application/json\" -d '{\"value\":[5, 23, 3, 4]}'``\n    - If the POST was successful, you would receive an HTTP response that contains in its body the ID of the posted resource:\n        - ``{\"vector\" : {\"id\" : 1235412 }}``\n    - The server contains a database (DB) in which the resources posted are stored and retrieved from.\n- After POSTings are performed, you proceed to ask the server for a certain operation involving the resources submitted.\n    - Servers can also admit operations. A typical standard for defining operation endpoints would be:\n        - ``GET`` to ``${server-uri}/${operation}/${resource}`` --> In the demo: ``http://127.0.0.1:5000/add/Vectors``\n    - These GET requests also contain in their bodies the IDs of the involved resources:\n        - Imagine if you were to use CURL commands. The GET request for adding two vectors would look something like this:\n        - ``curl -X GET \"http://127.0.0.1:5000/add/Vectors\" -H \"Content-Type: application/json\" -d '{\"id1\":1, \"id2\":2}'``\n    - The server then interacts with the DB, retrieves the vectors, calls the Eigen library (via a dedicated wrapper using pybind11), performs the operation, and returns the result.\n    - The client then receives a response containing the result of the operation:\n        - ``{\"vector-addition\" : {\"result\" : [2.0, 3.0, 5.0, 4.0] }}``\n        - The dedicated client implemented then parses this JSON string and transforms the resulting value into a numpy.ndarray.\n        - This way, you call the client library with numpy.ndarrays and retrieve numpy.ndarrays without having to know the specifics of the interface.\n\n\n\n"
      ]
    },
    {
      "cell_type": "code",
      "execution_count": null,
      "metadata": {
        "collapsed": false
      },
      "outputs": [],
      "source": [
        "# Call the client to perform your desired operation\n# For example, call the client method ``add()``:\nvec_add = my_client.add(vec_1, vec_2)\n\n# Show the result\nprint(\"Vector addition!\")\nprint(\"================\")\nprint(vec_add)"
      ]
    },
    {
      "cell_type": "markdown",
      "metadata": {},
      "source": [
        "As mentioned before, there are several other methods implemented:\n\n"
      ]
    },
    {
      "cell_type": "code",
      "execution_count": null,
      "metadata": {
        "collapsed": false
      },
      "outputs": [],
      "source": [
        "# Call the client to perform your desired operation\nvec_sub = my_client.subtract(vec_1, vec_2)\n\n# Show the result!\nprint(\"Vector subtraction!\")\nprint(\"===================\")\nprint(vec_sub)"
      ]
    },
    {
      "cell_type": "code",
      "execution_count": null,
      "metadata": {
        "collapsed": false
      },
      "outputs": [],
      "source": [
        "# Call the client to perform your desired operation\nvec_mul = my_client.multiply(vec_1, vec_2)\n\n# Show the result!\nprint(\"Vector dot product!\")\nprint(\"===================\")\nprint(vec_mul)"
      ]
    },
    {
      "cell_type": "markdown",
      "metadata": {},
      "source": [
        "Here are some operations with 2D numpy.ndarrays (matrices)\n\n"
      ]
    },
    {
      "cell_type": "code",
      "execution_count": null,
      "metadata": {
        "collapsed": false
      },
      "outputs": [],
      "source": [
        "# Define your matrices\nmat_1 = np.array([[1, 2], [3, 4]], dtype=np.float64)\nmat_2 = np.array([[5, 4], [2, 0]], dtype=np.float64)\n\n# Call the client to perform your desired operation\nmat_add = my_client.add(mat_1, mat_2)\n\n# Show the result\nprint(\"Adding matrices.\")\nprint(\"================\")\nprint(mat_add)"
      ]
    },
    {
      "cell_type": "code",
      "execution_count": null,
      "metadata": {
        "collapsed": false
      },
      "outputs": [],
      "source": [
        "# Call the client to perform your desired operation\nmat_sub = my_client.subtract(mat_1, mat_2)\n\n# Show the result!\nprint(\"Subtracting matrices.\")\nprint(\"=====================\")\nprint(mat_sub)"
      ]
    },
    {
      "cell_type": "code",
      "execution_count": null,
      "metadata": {
        "collapsed": false
      },
      "outputs": [],
      "source": [
        "# Call the client to perform your desired operation\nmat_mul = my_client.multiply(mat_1, mat_2)\n\n# Show the result!\nprint(\"Multiplying matrices.\")\nprint(\"=====================\")\nprint(mat_mul)"
      ]
    }
  ],
  "metadata": {
    "kernelspec": {
      "display_name": "Python 3",
      "language": "python",
      "name": "python3"
    },
    "language_info": {
      "codemirror_mode": {
        "name": "ipython",
        "version": 3
      },
      "file_extension": ".py",
      "mimetype": "text/x-python",
      "name": "python",
      "nbconvert_exporter": "python",
      "pygments_lexer": "ipython3",
      "version": "3.12.12"
    }
  },
  "nbformat": 4,
  "nbformat_minor": 0
}